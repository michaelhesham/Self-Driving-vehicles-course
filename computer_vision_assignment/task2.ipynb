{
 "metadata": {
  "language_info": {
   "codemirror_mode": {
    "name": "ipython",
    "version": 3
   },
   "file_extension": ".py",
   "mimetype": "text/x-python",
   "name": "python",
   "nbconvert_exporter": "python",
   "pygments_lexer": "ipython3",
   "version": "3.8.8"
  },
  "orig_nbformat": 2,
  "kernelspec": {
   "name": "python388jvsc74a57bd03c778eb0bc652812db3e552360783111553ec751d55bea4364205e9e907b2eb0",
   "display_name": "Python 3.8.8 64-bit ('base': conda)"
  },
  "metadata": {
   "interpreter": {
    "hash": "3c778eb0bc652812db3e552360783111553ec751d55bea4364205e9e907b2eb0"
   }
  }
 },
 "nbformat": 4,
 "nbformat_minor": 2,
 "cells": [
  {
   "cell_type": "code",
   "execution_count": 1,
   "metadata": {},
   "outputs": [],
   "source": [
    "import cv2\n",
    "import numpy as np "
   ]
  },
  {
   "cell_type": "code",
   "execution_count": 17,
   "metadata": {},
   "outputs": [],
   "source": [
    "img = np.zeros((256,256,3),np.uint8)\n",
    "\n",
    "frameSize = (256, 256)\n",
    "fourcc = cv2.VideoWriter_fourcc('M','J','P','G')\n",
    "\n",
    "video_out = cv2.VideoWriter('output_video_line.mp4',fourcc, 10, frameSize)\n",
    "\n",
    "for i in range(100):\n",
    "    row = np.random.rand()*255\n",
    "    column = np.random.rand()*255\n",
    "\n",
    "    row_colour = np.random.rand(3)*255\n",
    "    column_colour = np.random.rand(3)*255\n",
    "\n",
    "    img = np.zeros((256,256,3),np.uint8)\n",
    "    \n",
    "    img[int(row), :] = row_colour\n",
    "    img[:, int(column)] = column_colour\n",
    "\n",
    "    video_out.write(img)\n",
    "    \n",
    "    cv2.imshow('image',img)\n",
    "    \n",
    "    k = cv2.waitKey(100)\n",
    "    if k == 27:\n",
    "        break\n",
    "video_out.release()\n",
    "cv2.destroyAllWindows()\n"
   ]
  },
  {
   "cell_type": "code",
   "execution_count": null,
   "metadata": {},
   "outputs": [],
   "source": []
  }
 ]
}