{
 "metadata": {
  "language_info": {
   "codemirror_mode": {
    "name": "ipython",
    "version": 3
   },
   "file_extension": ".py",
   "mimetype": "text/x-python",
   "name": "python",
   "nbconvert_exporter": "python",
   "pygments_lexer": "ipython3",
   "version": "3.8.8"
  },
  "orig_nbformat": 2,
  "kernelspec": {
   "name": "python388jvsc74a57bd03c778eb0bc652812db3e552360783111553ec751d55bea4364205e9e907b2eb0",
   "display_name": "Python 3.8.8 64-bit ('base': conda)"
  },
  "metadata": {
   "interpreter": {
    "hash": "3c778eb0bc652812db3e552360783111553ec751d55bea4364205e9e907b2eb0"
   }
  }
 },
 "nbformat": 4,
 "nbformat_minor": 2,
 "cells": [
  {
   "cell_type": "code",
   "execution_count": 1,
   "metadata": {},
   "outputs": [],
   "source": [
    "import cv2\n",
    "import numpy as np\n",
    "from matplotlib import pyplot as plt"
   ]
  },
  {
   "cell_type": "code",
   "execution_count": 3,
   "metadata": {},
   "outputs": [],
   "source": [
    "img = np.zeros((256,256,3),np.uint8)\n",
    "\n",
    "frameSize = (256, 256)\n",
    "fourcc = cv2.VideoWriter_fourcc(*'XVID')\n",
    "\n",
    "video_out = cv2.VideoWriter('output_video.mp4',fourcc, 60, frameSize)\n",
    "\n",
    "for i in range(100):\n",
    "    r = np.random.rand()*255\n",
    "    g = np.random.rand()*255\n",
    "    b = np.random.rand()*255\n",
    "\n",
    "    img[:,:,:] = [b,g,r]\n",
    "\n",
    "    cv2.imshow('image',img)\n",
    "    \n",
    "    video_out.write(img)\n",
    "\n",
    "    k = cv2.waitKey(100)\n",
    "    if k == 27:\n",
    "        break\n",
    "\n",
    "video_out.release()\n",
    "cv2.destroyAllWindows()\n"
   ]
  },
  {
   "cell_type": "code",
   "execution_count": null,
   "metadata": {},
   "outputs": [],
   "source": []
  }
 ]
}