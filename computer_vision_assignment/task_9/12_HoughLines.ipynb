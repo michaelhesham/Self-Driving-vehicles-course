{
 "metadata": {
  "language_info": {
   "codemirror_mode": {
    "name": "ipython",
    "version": 3
   },
   "file_extension": ".py",
   "mimetype": "text/x-python",
   "name": "python",
   "nbconvert_exporter": "python",
   "pygments_lexer": "ipython3",
   "version": "3.8.8"
  },
  "orig_nbformat": 2,
  "kernelspec": {
   "name": "python388jvsc74a57bd03c778eb0bc652812db3e552360783111553ec751d55bea4364205e9e907b2eb0",
   "display_name": "Python 3.8.8 64-bit ('base': conda)"
  },
  "metadata": {
   "interpreter": {
    "hash": "3c778eb0bc652812db3e552360783111553ec751d55bea4364205e9e907b2eb0"
   }
  }
 },
 "nbformat": 4,
 "nbformat_minor": 2,
 "cells": [
  {
   "cell_type": "code",
   "execution_count": 2,
   "metadata": {},
   "outputs": [],
   "source": [
    "import cv2\n",
    "import numpy as np \n",
    "from matplotlib import pyplot as plt "
   ]
  },
  {
   "cell_type": "code",
   "execution_count": 3,
   "metadata": {},
   "outputs": [],
   "source": [
    "building = cv2.imread('Building.jpg')\n",
    "road = cv2.imread('Road.jpg')\n",
    "\n",
    "building_gray = cv2.cvtColor(building,cv2.COLOR_BGR2GRAY)\n",
    "road_gray = cv2.cvtColor(road,cv2.COLOR_BGR2GRAY)\n",
    "\n",
    "building_blur = cv2.GaussianBlur(building_gray, (5, 5), 0)\n",
    "road_blur = cv2.GaussianBlur(road_gray, (5, 5), 0)\n"
   ]
  },
  {
   "cell_type": "code",
   "execution_count": 6,
   "metadata": {},
   "outputs": [],
   "source": [
    "def nothing(x):\n",
    "    pass\n",
    "\n",
    "cv2.namedWindow('Image')\n",
    "\n",
    "cv2.createTrackbar('min_thresh', 'Image', 0, 500, nothing)\n",
    "cv2.createTrackbar('max_thresh', 'Image', 0, 500, nothing)\n",
    "cv2.createTrackbar('x', 'Image', 0, 1000, nothing)\n",
    "\n",
    "while (1):\n",
    "    image = building.copy()    \n",
    "    min_thresh = cv2.getTrackbarPos('min_thresh','Image')\n",
    "    max_thresh = cv2.getTrackbarPos('max_thresh','Image')\n",
    "\n",
    "    x = cv2.getTrackbarPos('x','Image')\n",
    "    \n",
    "    building_edges = cv2.Canny(building_blur, min_thresh, max_thresh)\n",
    "\n",
    "    building_lines = cv2.HoughLinesP(building_edges, 1, np.pi/180, x)\n",
    "\n",
    "    if building_lines is not None:\n",
    "        for i in range(0, len(building_lines)):\n",
    "            rho = building_lines[i][0][0]\n",
    "            theta = building_lines[i][0][1]\n",
    "\n",
    "            x0 = rho * np.cos(theta)\n",
    "            y0 = rho * np.sin(theta)\n",
    "\n",
    "            a = np.cos(theta)\n",
    "            b = np.sin(theta)\n",
    "\n",
    "            x1 = int(x0 + 1000 * (-b))\n",
    "            y1 = int(y0 + 1000 * (a))\n",
    "            x2 = int(x0 - 1000 * (-b))\n",
    "            y2 = int(y0 - 1000 * (a))\n",
    "            cv2.line(building_edges, (x1, y1), (x2, y2), (0, 0, 255), 2)\n",
    "    \n",
    "    edgesC = cv2.cvtColor(building_edges, cv2.COLOR_GRAY2BGR)\n",
    "    image = cv2.addWeighted(image, 0.9, edgesC, 0.5, 0)\n",
    "\n",
    "    cv2.imshow('Image', image)\n",
    "\n",
    "    k = cv2.waitKey(1) & 0xFF\n",
    "    if k == 27:\n",
    "        break\n",
    "    if k == ord('s'):\n",
    "        cv2.imwrite('building_edges.jpg', image)\n",
    "    \n",
    "cv2.destroyAllWindows()"
   ]
  },
  {
   "cell_type": "code",
   "execution_count": 7,
   "metadata": {},
   "outputs": [],
   "source": [
    "def nothing(x):\n",
    "    pass\n",
    "\n",
    "cv2.namedWindow('Image')\n",
    "\n",
    "cv2.createTrackbar('min_thresh', 'Image', 0, 300, nothing)\n",
    "cv2.createTrackbar('max_thresh', 'Image', 0, 300, nothing)\n",
    "cv2.createTrackbar('thresh', 'Image', 0, 1000, nothing)\n",
    "\n",
    "while (1):\n",
    "    image = road.copy()    \n",
    "    min_thresh = cv2.getTrackbarPos('min_thresh','Image')\n",
    "    max_thresh = cv2.getTrackbarPos('max_thresh','Image')\n",
    "\n",
    "    thresh = cv2.getTrackbarPos('thresh','Image')\n",
    "    \n",
    "    road_edges = cv2.Canny(road_blur, min_thresh, max_thresh)\n",
    "\n",
    "    road_lines = cv2.HoughLines(road_edges, 1, np.pi/180, thresh)\n",
    "\n",
    "    if road_lines is not None:\n",
    "        for i in range(0, len(road_lines)):\n",
    "            rho = road_lines[i][0][0]\n",
    "            theta = road_lines[i][0][1]\n",
    "\n",
    "            x0 = rho * np.cos(theta)\n",
    "            y0 = rho * np.sin(theta)\n",
    "\n",
    "            a = np.cos(theta)\n",
    "            b = np.sin(theta)\n",
    "\n",
    "            x1 = int(x0 + 1000 * (-b))\n",
    "            y1 = int(y0 + 1000 * (a))\n",
    "            x2 = int(x0 - 1000 * (-b))\n",
    "            y2 = int(y0 - 1000 * (a))\n",
    "            cv2.line(road_edges, (x1, y1), (x2, y2), (0, 0, 255), 2)\n",
    "    \n",
    "    edgesC = cv2.cvtColor(road_edges, cv2.COLOR_GRAY2BGR)\n",
    "    image = cv2.addWeighted(image, 0.9, edgesC, 0.5, 0)\n",
    "\n",
    "    cv2.imshow('Image', image)\n",
    "\n",
    "    k = cv2.waitKey(1) & 0xFF\n",
    "    if k == 27:\n",
    "        break\n",
    "    if k == ord('s'):\n",
    "        cv2.imwrite('road_edges.jpg', image)\n",
    "    \n",
    "cv2.destroyAllWindows()"
   ]
  },
  {
   "cell_type": "code",
   "execution_count": null,
   "metadata": {},
   "outputs": [],
   "source": []
  }
 ]
}