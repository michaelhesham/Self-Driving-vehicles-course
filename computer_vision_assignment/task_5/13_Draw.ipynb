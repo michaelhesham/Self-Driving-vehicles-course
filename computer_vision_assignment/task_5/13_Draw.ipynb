{
 "metadata": {
  "language_info": {
   "codemirror_mode": {
    "name": "ipython",
    "version": 3
   },
   "file_extension": ".py",
   "mimetype": "text/x-python",
   "name": "python",
   "nbconvert_exporter": "python",
   "pygments_lexer": "ipython3",
   "version": "3.8.8"
  },
  "orig_nbformat": 2,
  "kernelspec": {
   "name": "python388jvsc74a57bd03c778eb0bc652812db3e552360783111553ec751d55bea4364205e9e907b2eb0",
   "display_name": "Python 3.8.8 64-bit ('base': conda)"
  },
  "metadata": {
   "interpreter": {
    "hash": "3c778eb0bc652812db3e552360783111553ec751d55bea4364205e9e907b2eb0"
   }
  }
 },
 "nbformat": 4,
 "nbformat_minor": 2,
 "cells": [
  {
   "cell_type": "code",
   "execution_count": 1,
   "metadata": {},
   "outputs": [],
   "source": [
    "import numpy as np\n",
    "import cv2"
   ]
  },
  {
   "cell_type": "code",
   "execution_count": 15,
   "metadata": {},
   "outputs": [],
   "source": [
    "# mouse callback function\n",
    "def draw_event(event,x,y,flags,param):\n",
    "    if event == cv2.EVENT_LBUTTONDOWN:\n",
    "        #draw square when left button is down\n",
    "        cv2.rectangle(img, (x,y), (x+10,y+10), (0,255,0), -1)\n",
    "    elif event == cv2.EVENT_LBUTTONUP:\n",
    "        #draw rectangle when left button is up\n",
    "        cv2.rectangle(img, (x,y), (x+20,y+10), (0,0,255), -1)\n",
    "    elif event == cv2.EVENT_RBUTTONDOWN:\n",
    "        #draw circle when right button is down\n",
    "        cv2.circle(img, (x,y), 15, (255,0,0), -1)    \n",
    "    elif event == cv2.EVENT_RBUTTONUP:\n",
    "        #draw arc when right button is up\n",
    "        cv2.ellipse(img,(x,y),(15,15),0,0,180,(0,255,255),2)\n",
    "    elif event == cv2.EVENT_MBUTTONDOWN:\n",
    "        #write name when M button is down\n",
    "        font = cv2.FONT_HERSHEY_SIMPLEX\n",
    "        cv2.putText(img, 'Michael Hesham', (x, y), font, 1, (220, 120, 25), 2, cv2.FILLED)\n",
    "\n",
    "    \n",
    "    \n",
    "img = np.zeros((512,512,3), np.uint8)\n",
    "cv2.namedWindow('image')\n",
    "cv2.setMouseCallback('image',draw_event)\n",
    "\n",
    "while(1):\n",
    "    cv2.imshow('image',img)\n",
    "    \n",
    "    k = cv2.waitKey(1)\n",
    "    if k == ord('q'):\n",
    "        break\n",
    "\n",
    "cv2.destroyAllWindows()"
   ]
  },
  {
   "cell_type": "code",
   "execution_count": null,
   "metadata": {},
   "outputs": [],
   "source": []
  }
 ]
}