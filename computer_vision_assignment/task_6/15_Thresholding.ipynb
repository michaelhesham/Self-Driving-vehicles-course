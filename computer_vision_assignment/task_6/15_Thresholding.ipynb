{
 "metadata": {
  "language_info": {
   "codemirror_mode": {
    "name": "ipython",
    "version": 3
   },
   "file_extension": ".py",
   "mimetype": "text/x-python",
   "name": "python",
   "nbconvert_exporter": "python",
   "pygments_lexer": "ipython3",
   "version": "3.8.8"
  },
  "orig_nbformat": 2,
  "kernelspec": {
   "name": "python388jvsc74a57bd03c778eb0bc652812db3e552360783111553ec751d55bea4364205e9e907b2eb0",
   "display_name": "Python 3.8.8 64-bit ('base': conda)"
  },
  "metadata": {
   "interpreter": {
    "hash": "3c778eb0bc652812db3e552360783111553ec751d55bea4364205e9e907b2eb0"
   }
  }
 },
 "nbformat": 4,
 "nbformat_minor": 2,
 "cells": [
  {
   "cell_type": "code",
   "execution_count": 2,
   "metadata": {},
   "outputs": [],
   "source": [
    "import cv2 \n",
    "import numpy as np \n",
    "from matplotlib import pyplot as plt "
   ]
  },
  {
   "source": [
    "## first approach"
   ],
   "cell_type": "markdown",
   "metadata": {}
  },
  {
   "cell_type": "code",
   "execution_count": 7,
   "metadata": {
    "tags": []
   },
   "outputs": [],
   "source": [
    "cap = cv2.VideoCapture('Lanes.mp4')\n",
    "\n",
    "fourcc = cv2.VideoWriter_fourcc('M','J','P','G')\n",
    "frameSize = (1280,720)\n",
    "video_out = cv2.VideoWriter('lanes_output.mp4',fourcc, 22, frameSize)\n",
    "\n",
    "while (cap.isOpened()):\n",
    "    ret, frame = cap.read()\n",
    "    \n",
    "    if (ret):\n",
    "        frame = cv2.cvtColor(frame, cv2.COLOR_BGR2GRAY)\n",
    "        ret1, out = cv2.threshold(frame, 190, 210, cv2.THRESH_BINARY)\n",
    "        cv2.imshow('Image',out)\n",
    "        out = cv2.cvtColor(out, cv2.COLOR_GRAY2BGR)\n",
    "        video_out.write(out)\n",
    "        k = cv2.waitKey(1)\n",
    "        if k == 27:\n",
    "            break\n",
    "    else:\n",
    "        break\n",
    "\n",
    "video_out.release()\n",
    "cv2.destroyAllWindows()"
   ]
  },
  {
   "source": [
    "## second approach"
   ],
   "cell_type": "markdown",
   "metadata": {}
  },
  {
   "cell_type": "code",
   "execution_count": 6,
   "metadata": {},
   "outputs": [],
   "source": [
    "cap = cv2.VideoCapture('Lanes.mp4')\n",
    "\n",
    "fourcc = cv2.VideoWriter_fourcc('M','J','P','G')\n",
    "frameSize = (1280,720)\n",
    "video_out = cv2.VideoWriter('lanes_output.mp4',fourcc, 22, frameSize)\n",
    "\n",
    "while (cap.isOpened()):\n",
    "    ret, frame = cap.read()\n",
    "    \n",
    "    if (ret):\n",
    "        #frame = cv2.cvtColor(frame, cv2.COLOR_BGR2GRAY)\n",
    "        ret1, out = cv2.threshold(frame, 190, 210, cv2.THRESH_BINARY)\n",
    "        out = cv2.cvtColor(out, cv2.COLOR_BGR2GRAY)\n",
    "        ret1, out = cv2.threshold(out, 50, 250, cv2.THRESH_BINARY)\n",
    "        cv2.imshow('Image',out)\n",
    "        out = cv2.cvtColor(out, cv2.COLOR_GRAY2BGR)\n",
    "        video_out.write(out)\n",
    "        k = cv2.waitKey(1)\n",
    "        if k == 27:\n",
    "            break\n",
    "    else:\n",
    "        break\n",
    "\n",
    "video_out.release()\n",
    "cv2.destroyAllWindows()"
   ]
  },
  {
   "cell_type": "code",
   "execution_count": null,
   "metadata": {},
   "outputs": [],
   "source": []
  }
 ]
}