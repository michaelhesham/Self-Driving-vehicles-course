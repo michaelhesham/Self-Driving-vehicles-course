{
 "cells": [
  {
   "cell_type": "code",
   "execution_count": 61,
   "metadata": {},
   "outputs": [],
   "source": [
    "import tensorflow as tf\n",
    "import numpy as np\n",
    "import time\n"
   ]
  },
  {
   "cell_type": "code",
   "execution_count": 62,
   "metadata": {},
   "outputs": [
    {
     "name": "stdout",
     "output_type": "stream",
     "text": [
      "[80.87891563  4.33127082 98.08245331 25.58226041 50.38896881 14.23899694\n",
      " 26.06064133 79.0253955  94.91153574 21.35206029]\n",
      "[19.59369607 81.10891959 60.87453776 47.4753243   1.83946849 31.32986006\n",
      " 20.3916513  99.22422494 46.42944041 56.93805172]\n",
      "[[80.87891563 19.59369607]\n",
      " [ 4.33127082 81.10891959]\n",
      " [98.08245331 60.87453776]\n",
      " [25.58226041 47.4753243 ]\n",
      " [50.38896881  1.83946849]\n",
      " [14.23899694 31.32986006]\n",
      " [26.06064133 20.3916513 ]\n",
      " [79.0253955  99.22422494]\n",
      " [94.91153574 46.42944041]\n",
      " [21.35206029 56.93805172]]\n",
      "[ 352.61348993 -214.67040465  314.78865328   -7.51467086  253.4264386\n",
      "  -15.79459551   76.12825274  104.4543027   342.26935749  -57.05385369]\n"
     ]
    }
   ],
   "source": [
    "x = []\n",
    "for i in range(10):\n",
    "    rand_num = np.random.rand()*100\n",
    "    x.append(rand_num)\n",
    "x = np.array(x,dtype=float)\n",
    "print(x)\n",
    "\n",
    "y = []\n",
    "for i in range(10):\n",
    "    rand_num = np.random.rand()*100\n",
    "    y.append(rand_num)\n",
    "y = np.array(y,dtype=float)\n",
    "print(y)\n",
    "\n",
    "w = []\n",
    "for i in range(10):\n",
    "    q = (x[i],y[i])\n",
    "    w.append(q) \n",
    "\n",
    "w = np.array(w,dtype=float)\n",
    "print(w)\n",
    "\n",
    "z = []\n",
    "for i in range(10):\n",
    "    res = 5*x[i] - 3*y[i] +7\n",
    "    z.append(res)\n",
    "z = np.array(z,dtype=float)\n",
    "print(z)"
   ]
  },
  {
   "cell_type": "code",
   "execution_count": 63,
   "metadata": {},
   "outputs": [
    {
     "name": "stdout",
     "output_type": "stream",
     "text": [
      "Model: \"sequential_8\"\n",
      "_________________________________________________________________\n",
      "Layer (type)                 Output Shape              Param #   \n",
      "=================================================================\n",
      "dense_8 (Dense)              (None, 1)                 3         \n",
      "=================================================================\n",
      "Total params: 3\n",
      "Trainable params: 3\n",
      "Non-trainable params: 0\n",
      "_________________________________________________________________\n"
     ]
    }
   ],
   "source": [
    "model = tf.keras.Sequential(\n",
    "    tf.keras.layers.Dense(units=1, input_shape=[2])\n",
    ")\n",
    "\n",
    "model.compile(\n",
    "        loss='mean_squared_error',\n",
    "        metrics='accuracy',\n",
    "        optimizer=tf.keras.optimizers.Adam(0.1)\n",
    "    )\n",
    "\n",
    "model.summary()"
   ]
  },
  {
   "cell_type": "code",
   "execution_count": 64,
   "metadata": {},
   "outputs": [
    {
     "name": "stdout",
     "output_type": "stream",
     "text": [
      "Training took: 18.31 Sec\n"
     ]
    }
   ],
   "source": [
    "t = time.time()\n",
    "hist = model.fit(w, z, epochs=2000, verbose=0)\n",
    "print (str.format(\"Training took: {:0.2f} Sec\", time.time() - t))"
   ]
  },
  {
   "cell_type": "code",
   "execution_count": 65,
   "metadata": {},
   "outputs": [
    {
     "data": {
      "image/png": "[encoded data removed]",
      "text/plain": [
       "<Figure size 432x288 with 1 Axes>"
      ]
     },
     "metadata": {
      "needs_background": "light"
     },
     "output_type": "display_data"
    }
   ],
   "source": [
    "import matplotlib.pyplot as plt\n",
    "plt.xlabel('Epoch Number')\n",
    "plt.ylabel(\"Loss Magnitude\")\n",
    "plt.plot(hist.history['loss']);"
   ]
  },
  {
   "cell_type": "code",
   "execution_count": 73,
   "metadata": {},
   "outputs": [
    {
     "name": "stdout",
     "output_type": "stream",
     "text": [
      "dict_keys(['loss', 'accuracy'])\n"
     ]
    },
    {
     "data": {
      "image/png": "[encoded data removed]",
      "text/plain": [
       "<Figure size 432x288 with 1 Axes>"
      ]
     },
     "metadata": {
      "needs_background": "light"
     },
     "output_type": "display_data"
    }
   ],
   "source": [
    "plt.xlabel('Epoch Number')\n",
    "plt.ylabel(\"Accuracy\")\n",
    "plt.plot(hist.history['accuracy']);\n",
    "print(hist.history.keys())"
   ]
  },
  {
   "cell_type": "code",
   "execution_count": 67,
   "metadata": {},
   "outputs": [
    {
     "data": {
      "text/plain": [
       "[array([[ 5.0023623],\n",
       "        [-2.9967473]], dtype=float32),\n",
       " array([6.673754], dtype=float32)]"
      ]
     },
     "execution_count": 67,
     "metadata": {},
     "output_type": "execute_result"
    }
   ],
   "source": [
    "model.get_weights()"
   ]
  },
  {
   "cell_type": "code",
   "execution_count": 68,
   "metadata": {},
   "outputs": [],
   "source": [
    "z = 5.0023623*x - 2.9967473*y + 6.673754"
   ]
  },
  {
   "cell_type": "code",
   "execution_count": 69,
   "metadata": {},
   "outputs": [],
   "source": [
    "model.save('x,y_to_z.h5')"
   ]
  },
  {
   "cell_type": "code",
   "execution_count": 70,
   "metadata": {},
   "outputs": [
    {
     "name": "stdout",
     "output_type": "stream",
     "text": [
      "[12.44787971 44.01691766 82.84416367]\n",
      "[33.89675437 81.01193117 30.09725342]\n",
      "[[12.44787971 33.89675437]\n",
      " [44.01691766 81.01193117]\n",
      " [82.84416367 30.09725342]]\n",
      "[-32.45086455 -15.95120518 330.92905813]\n"
     ]
    },
    {
     "data": {
      "text/plain": [
       "array([[-32.63745 ],\n",
       "       [-15.909971],\n",
       "       [330.89642 ]], dtype=float32)"
      ]
     },
     "execution_count": 70,
     "metadata": {},
     "output_type": "execute_result"
    }
   ],
   "source": [
    "x = []\n",
    "for i in range(3):\n",
    "    rand_num = np.random.rand()*100\n",
    "    x.append(rand_num)\n",
    "x = np.array(x,dtype=float)\n",
    "print(x)\n",
    "\n",
    "y = []\n",
    "for i in range(3):\n",
    "    rand_num = np.random.rand()*100\n",
    "    y.append(rand_num)\n",
    "y = np.array(y,dtype=float)\n",
    "print(y)\n",
    "\n",
    "w = []\n",
    "for i in range(3):\n",
    "    q = (x[i],y[i])\n",
    "    w.append(q) \n",
    "\n",
    "w = np.array(w,dtype=float)\n",
    "print(w)\n",
    "\n",
    "z = []\n",
    "for i in range(3):\n",
    "    res = 5*x[i] - 3*y[i] +7\n",
    "    z.append(res)\n",
    "z = np.array(z,dtype=float)\n",
    "print(z)\n",
    "\n",
    "model.predict(w)"
   ]
  },
  {
   "cell_type": "markdown",
   "metadata": {},
   "source": []
  }
 ],
 "metadata": {
  "interpreter": {
   "hash": "3c778eb0bc652812db3e552360783111553ec751d55bea4364205e9e907b2eb0"
  },
  "kernelspec": {
   "display_name": "Python 3.8.10 64-bit ('base': conda)",
   "name": "python3"
  },
  "language_info": {
   "codemirror_mode": {
    "name": "ipython",
    "version": 3
   },
   "file_extension": ".py",
   "mimetype": "text/x-python",
   "name": "python",
   "nbconvert_exporter": "python",
   "pygments_lexer": "ipython3",
   "version": "3.8.10"
  },
  "orig_nbformat": 4
 },
 "nbformat": 4,
 "nbformat_minor": 2
}