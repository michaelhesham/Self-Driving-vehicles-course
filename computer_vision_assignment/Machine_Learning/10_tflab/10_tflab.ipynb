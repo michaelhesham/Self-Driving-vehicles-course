{
 "cells": [
  {
   "cell_type": "code",
   "execution_count": 37,
   "metadata": {},
   "outputs": [],
   "source": [
    "import tensorflow as tf\n",
    "import numpy as np\n",
    "import time\n"
   ]
  },
  {
   "cell_type": "code",
   "execution_count": 38,
   "metadata": {},
   "outputs": [
    {
     "name": "stdout",
     "output_type": "stream",
     "text": [
      "[13.46467242 31.75468371 95.89485549 20.74618985 98.33655263 26.19769029\n",
      " 17.55811298 10.04782521 28.45663618  4.65369894]\n",
      "[54.02378493 75.19720036 99.27035394 61.85050215  0.53635138 63.92840019\n",
      " 43.26570829 77.80395267 37.14695457 71.5007527 ]\n",
      "[[13.46467242 54.02378493]\n",
      " [31.75468371 75.19720036]\n",
      " [95.89485549 99.27035394]\n",
      " [20.74618985 61.85050215]\n",
      " [98.33655263  0.53635138]\n",
      " [26.19769029 63.92840019]\n",
      " [17.55811298 43.26570829]\n",
      " [10.04782521 77.80395267]\n",
      " [28.45663618 37.14695457]\n",
      " [ 4.65369894 71.5007527 ]]\n",
      "[ -87.74799269  -59.81818254  188.66321564  -74.82055722  497.07370904\n",
      "  -53.79674916  -35.00655996 -176.17273194   37.84231717 -184.23376341]\n"
     ]
    }
   ],
   "source": [
    "x = []\n",
    "for i in range(10):\n",
    "    rand_num = np.random.rand()*100\n",
    "    x.append(rand_num)\n",
    "x = np.array(x,dtype=float)\n",
    "print(x)\n",
    "\n",
    "y = []\n",
    "for i in range(10):\n",
    "    rand_num = np.random.rand()*100\n",
    "    y.append(rand_num)\n",
    "y = np.array(y,dtype=float)\n",
    "print(y)\n",
    "\n",
    "w = []\n",
    "for i in range(10):\n",
    "    q = (x[i],y[i])\n",
    "    w.append(q) \n",
    "\n",
    "w = np.array(w,dtype=float)\n",
    "print(w)\n",
    "\n",
    "z = []\n",
    "for i in range(10):\n",
    "    res = 5*x[i] - 3*y[i] +7\n",
    "    z.append(res)\n",
    "z = np.array(z,dtype=float)\n",
    "print(z)"
   ]
  },
  {
   "cell_type": "code",
   "execution_count": 39,
   "metadata": {},
   "outputs": [
    {
     "name": "stdout",
     "output_type": "stream",
     "text": [
      "Model: \"sequential_5\"\n",
      "_________________________________________________________________\n",
      "Layer (type)                 Output Shape              Param #   \n",
      "=================================================================\n",
      "dense_5 (Dense)              (None, 1)                 3         \n",
      "=================================================================\n",
      "Total params: 3\n",
      "Trainable params: 3\n",
      "Non-trainable params: 0\n",
      "_________________________________________________________________\n"
     ]
    }
   ],
   "source": [
    "model = tf.keras.Sequential(\n",
    "    tf.keras.layers.Dense(units=1, input_shape=[2])\n",
    ")\n",
    "\n",
    "model.compile(\n",
    "        loss='mean_squared_error',\n",
    "        metrics='accuracy',\n",
    "        optimizer=tf.keras.optimizers.Adam(0.1)\n",
    "    )\n",
    "\n",
    "model.summary()"
   ]
  },
  {
   "cell_type": "code",
   "execution_count": 40,
   "metadata": {},
   "outputs": [
    {
     "name": "stdout",
     "output_type": "stream",
     "text": [
      "Training took: 13.14 Sec\n"
     ]
    }
   ],
   "source": [
    "t = time.time()\n",
    "hist = model.fit(w, z, epochs=1000, verbose=0)\n",
    "print (str.format(\"Training took: {:0.2f} Sec\", time.time() - t))"
   ]
  },
  {
   "cell_type": "code",
   "execution_count": 41,
   "metadata": {},
   "outputs": [
    {
     "data": {
      "image/png": "[encoded data removed]",
      "text/plain": [
       "<Figure size 432x288 with 1 Axes>"
      ]
     },
     "metadata": {
      "needs_background": "light"
     },
     "output_type": "display_data"
    }
   ],
   "source": [
    "import matplotlib.pyplot as plt\n",
    "plt.xlabel('Epoch Number')\n",
    "plt.ylabel(\"Loss Magnitude\")\n",
    "plt.plot(hist.history['loss']);"
   ]
  },
  {
   "cell_type": "code",
   "execution_count": 42,
   "metadata": {},
   "outputs": [
    {
     "name": "stdout",
     "output_type": "stream",
     "text": [
      "dict_keys(['loss', 'accuracy'])\n"
     ]
    },
    {
     "data": {
      "image/png": "[encoded data removed]",
      "text/plain": [
       "<Figure size 432x288 with 1 Axes>"
      ]
     },
     "metadata": {
      "needs_background": "light"
     },
     "output_type": "display_data"
    }
   ],
   "source": [
    "plt.xlabel('Epoch Number')\n",
    "plt.ylabel(\"Accuracy\")\n",
    "plt.plot(hist.history['accuracy']);\n",
    "print(hist.history.keys())"
   ]
  },
  {
   "cell_type": "code",
   "execution_count": 43,
   "metadata": {},
   "outputs": [
    {
     "data": {
      "text/plain": [
       "[array([[ 5.0019784],\n",
       "        [-2.9960697]], dtype=float32),\n",
       " array([6.66318], dtype=float32)]"
      ]
     },
     "execution_count": 43,
     "metadata": {},
     "output_type": "execute_result"
    }
   ],
   "source": [
    "model.get_weights()"
   ]
  },
  {
   "cell_type": "code",
   "execution_count": 44,
   "metadata": {},
   "outputs": [],
   "source": [
    "z = 5.0019784*x - 2.9960697*y + 6.66318"
   ]
  },
  {
   "cell_type": "code",
   "execution_count": 45,
   "metadata": {},
   "outputs": [],
   "source": [
    "model.save('x,y_to_z.h5')"
   ]
  },
  {
   "cell_type": "code",
   "execution_count": 46,
   "metadata": {},
   "outputs": [
    {
     "name": "stdout",
     "output_type": "stream",
     "text": [
      "[30.0444597   3.82334854 30.25006022]\n",
      "[68.46848186 55.43880368 78.72362633]\n",
      "[[30.0444597  68.46848186]\n",
      " [ 3.82334854 55.43880368]\n",
      " [30.25006022 78.72362633]]\n",
      "[ -48.18314708 -140.19966837  -77.92057789]\n"
     ]
    },
    {
     "data": {
      "text/plain": [
       "array([[ -48.191433],\n",
       "       [-140.31104 ],\n",
       "       [ -77.88814 ]], dtype=float32)"
      ]
     },
     "execution_count": 46,
     "metadata": {},
     "output_type": "execute_result"
    }
   ],
   "source": [
    "x = []\n",
    "for i in range(3):\n",
    "    rand_num = np.random.rand()*100\n",
    "    x.append(rand_num)\n",
    "x = np.array(x,dtype=float)\n",
    "print(x)\n",
    "\n",
    "y = []\n",
    "for i in range(3):\n",
    "    rand_num = np.random.rand()*100\n",
    "    y.append(rand_num)\n",
    "y = np.array(y,dtype=float)\n",
    "print(y)\n",
    "\n",
    "w = []\n",
    "for i in range(3):\n",
    "    q = (x[i],y[i])\n",
    "    w.append(q) \n",
    "\n",
    "w = np.array(w,dtype=float)\n",
    "print(w)\n",
    "\n",
    "z = []\n",
    "for i in range(3):\n",
    "    res = 5*x[i] - 3*y[i] +7\n",
    "    z.append(res)\n",
    "z = np.array(z,dtype=float)\n",
    "print(z)\n",
    "\n",
    "model.predict(w)"
   ]
  },
  {
   "cell_type": "markdown",
   "metadata": {},
   "source": []
  }
 ],
 "metadata": {
  "interpreter": {
   "hash": "3c778eb0bc652812db3e552360783111553ec751d55bea4364205e9e907b2eb0"
  },
  "kernelspec": {
   "display_name": "Python 3.8.10 64-bit ('base': conda)",
   "name": "python3"
  },
  "language_info": {
   "codemirror_mode": {
    "name": "ipython",
    "version": 3
   },
   "file_extension": ".py",
   "mimetype": "text/x-python",
   "name": "python",
   "nbconvert_exporter": "python",
   "pygments_lexer": "ipython3",
   "version": "3.8.10"
  },
  "orig_nbformat": 4
 },
 "nbformat": 4,
 "nbformat_minor": 2
}